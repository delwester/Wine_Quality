{
 "cells": [
  {
   "cell_type": "code",
   "execution_count": 10,
   "metadata": {},
   "outputs": [],
   "source": [
    "#Import packages:\n",
    "import os\n",
    "import pandas as pd\n",
    "from datetime import datetime,timedelta\n",
    "import seaborn as sns\n",
    "import matplotlib.pyplot as plt\n",
    "import numpy as np\n",
    "from sklearn.preprocessing import RobustScaler\n",
    "from sklearn.linear_model import LogisticRegression\n",
    "from sklearn.model_selection import train_test_split, cross_val_score, GridSearchCV, validation_curve, StratifiedShuffleSplit\n",
    "from sklearn.neighbors import KNeighborsClassifier\n",
    "from sklearn.ensemble import RandomForestClassifier, RandomForestRegressor\n",
    "from sklearn.metrics import auc, roc_curve, roc_auc_score, accuracy_score, confusion_matrix, r2_score, classification_report\n",
    "from sklearn.datasets import make_classification \n",
    "from sklearn.inspection import permutation_importance\n",
    "from sklearn.pipeline import Pipeline"
   ]
  },
  {
   "cell_type": "code",
   "execution_count": 11,
   "metadata": {},
   "outputs": [],
   "source": [
    "#import data\n",
    "redimportedData ='red_wine_processed.csv'\n",
    "red_wine = pd.read_csv(redimportedData, index_col = False)\n",
    "red_wine = red_wine.drop(columns='Unnamed: 0', axis = 1)\n",
    "whiteimportedData ='white_wine_processed.csv'\n",
    "white_wine = pd.read_csv(whiteimportedData, index_col = False)\n",
    "white_wine = white_wine.drop(columns='Unnamed: 0', axis = 1)"
   ]
  },
  {
   "cell_type": "code",
   "execution_count": 12,
   "metadata": {},
   "outputs": [
    {
     "data": {
      "text/html": [
       "<div>\n",
       "<style scoped>\n",
       "    .dataframe tbody tr th:only-of-type {\n",
       "        vertical-align: middle;\n",
       "    }\n",
       "\n",
       "    .dataframe tbody tr th {\n",
       "        vertical-align: top;\n",
       "    }\n",
       "\n",
       "    .dataframe thead th {\n",
       "        text-align: right;\n",
       "    }\n",
       "</style>\n",
       "<table border=\"1\" class=\"dataframe\">\n",
       "  <thead>\n",
       "    <tr style=\"text-align: right;\">\n",
       "      <th></th>\n",
       "      <th>fixed_acidity</th>\n",
       "      <th>volatile_acidity</th>\n",
       "      <th>citric_acid</th>\n",
       "      <th>residual_sugar</th>\n",
       "      <th>chlorides</th>\n",
       "      <th>free_sulfur_dioxide</th>\n",
       "      <th>total_sulfur_dioxide</th>\n",
       "      <th>density</th>\n",
       "      <th>pH</th>\n",
       "      <th>sulphates</th>\n",
       "      <th>alcohol</th>\n",
       "      <th>qual_bin</th>\n",
       "    </tr>\n",
       "  </thead>\n",
       "  <tbody>\n",
       "    <tr>\n",
       "      <th>0</th>\n",
       "      <td>7.4</td>\n",
       "      <td>0.70</td>\n",
       "      <td>0.00</td>\n",
       "      <td>1.9</td>\n",
       "      <td>0.076</td>\n",
       "      <td>11.0</td>\n",
       "      <td>34.0</td>\n",
       "      <td>0.9978</td>\n",
       "      <td>3.51</td>\n",
       "      <td>0.56</td>\n",
       "      <td>9.4</td>\n",
       "      <td>0</td>\n",
       "    </tr>\n",
       "    <tr>\n",
       "      <th>1</th>\n",
       "      <td>7.8</td>\n",
       "      <td>0.88</td>\n",
       "      <td>0.00</td>\n",
       "      <td>2.6</td>\n",
       "      <td>0.098</td>\n",
       "      <td>25.0</td>\n",
       "      <td>67.0</td>\n",
       "      <td>0.9968</td>\n",
       "      <td>3.20</td>\n",
       "      <td>0.68</td>\n",
       "      <td>9.8</td>\n",
       "      <td>0</td>\n",
       "    </tr>\n",
       "    <tr>\n",
       "      <th>2</th>\n",
       "      <td>7.8</td>\n",
       "      <td>0.76</td>\n",
       "      <td>0.04</td>\n",
       "      <td>2.3</td>\n",
       "      <td>0.092</td>\n",
       "      <td>15.0</td>\n",
       "      <td>54.0</td>\n",
       "      <td>0.9970</td>\n",
       "      <td>3.26</td>\n",
       "      <td>0.65</td>\n",
       "      <td>9.8</td>\n",
       "      <td>0</td>\n",
       "    </tr>\n",
       "    <tr>\n",
       "      <th>3</th>\n",
       "      <td>11.2</td>\n",
       "      <td>0.28</td>\n",
       "      <td>0.56</td>\n",
       "      <td>1.9</td>\n",
       "      <td>0.075</td>\n",
       "      <td>17.0</td>\n",
       "      <td>60.0</td>\n",
       "      <td>0.9980</td>\n",
       "      <td>3.16</td>\n",
       "      <td>0.58</td>\n",
       "      <td>9.8</td>\n",
       "      <td>0</td>\n",
       "    </tr>\n",
       "    <tr>\n",
       "      <th>4</th>\n",
       "      <td>7.4</td>\n",
       "      <td>0.70</td>\n",
       "      <td>0.00</td>\n",
       "      <td>1.9</td>\n",
       "      <td>0.076</td>\n",
       "      <td>11.0</td>\n",
       "      <td>34.0</td>\n",
       "      <td>0.9978</td>\n",
       "      <td>3.51</td>\n",
       "      <td>0.56</td>\n",
       "      <td>9.4</td>\n",
       "      <td>0</td>\n",
       "    </tr>\n",
       "  </tbody>\n",
       "</table>\n",
       "</div>"
      ],
      "text/plain": [
       "   fixed_acidity  volatile_acidity  citric_acid  residual_sugar  chlorides  \\\n",
       "0            7.4              0.70         0.00             1.9      0.076   \n",
       "1            7.8              0.88         0.00             2.6      0.098   \n",
       "2            7.8              0.76         0.04             2.3      0.092   \n",
       "3           11.2              0.28         0.56             1.9      0.075   \n",
       "4            7.4              0.70         0.00             1.9      0.076   \n",
       "\n",
       "   free_sulfur_dioxide  total_sulfur_dioxide  density    pH  sulphates  \\\n",
       "0                 11.0                  34.0   0.9978  3.51       0.56   \n",
       "1                 25.0                  67.0   0.9968  3.20       0.68   \n",
       "2                 15.0                  54.0   0.9970  3.26       0.65   \n",
       "3                 17.0                  60.0   0.9980  3.16       0.58   \n",
       "4                 11.0                  34.0   0.9978  3.51       0.56   \n",
       "\n",
       "   alcohol  qual_bin  \n",
       "0      9.4         0  \n",
       "1      9.8         0  \n",
       "2      9.8         0  \n",
       "3      9.8         0  \n",
       "4      9.4         0  "
      ]
     },
     "execution_count": 12,
     "metadata": {},
     "output_type": "execute_result"
    }
   ],
   "source": [
    "red_wine.head()"
   ]
  },
  {
   "cell_type": "code",
   "execution_count": 13,
   "metadata": {},
   "outputs": [
    {
     "data": {
      "text/html": [
       "<div>\n",
       "<style scoped>\n",
       "    .dataframe tbody tr th:only-of-type {\n",
       "        vertical-align: middle;\n",
       "    }\n",
       "\n",
       "    .dataframe tbody tr th {\n",
       "        vertical-align: top;\n",
       "    }\n",
       "\n",
       "    .dataframe thead th {\n",
       "        text-align: right;\n",
       "    }\n",
       "</style>\n",
       "<table border=\"1\" class=\"dataframe\">\n",
       "  <thead>\n",
       "    <tr style=\"text-align: right;\">\n",
       "      <th></th>\n",
       "      <th>fixed_acidity</th>\n",
       "      <th>volatile_acidity</th>\n",
       "      <th>citric_acid</th>\n",
       "      <th>residual_sugar</th>\n",
       "      <th>chlorides</th>\n",
       "      <th>free_sulfur_dioxide</th>\n",
       "      <th>total_sulfur_dioxide</th>\n",
       "      <th>density</th>\n",
       "      <th>pH</th>\n",
       "      <th>sulphates</th>\n",
       "      <th>alcohol</th>\n",
       "      <th>qual_bin</th>\n",
       "    </tr>\n",
       "  </thead>\n",
       "  <tbody>\n",
       "    <tr>\n",
       "      <th>0</th>\n",
       "      <td>7.0</td>\n",
       "      <td>0.27</td>\n",
       "      <td>0.36</td>\n",
       "      <td>20.7</td>\n",
       "      <td>0.045</td>\n",
       "      <td>45.0</td>\n",
       "      <td>170.0</td>\n",
       "      <td>1.0010</td>\n",
       "      <td>3.00</td>\n",
       "      <td>0.45</td>\n",
       "      <td>8.8</td>\n",
       "      <td>0</td>\n",
       "    </tr>\n",
       "    <tr>\n",
       "      <th>1</th>\n",
       "      <td>6.3</td>\n",
       "      <td>0.30</td>\n",
       "      <td>0.34</td>\n",
       "      <td>1.6</td>\n",
       "      <td>0.049</td>\n",
       "      <td>14.0</td>\n",
       "      <td>132.0</td>\n",
       "      <td>0.9940</td>\n",
       "      <td>3.30</td>\n",
       "      <td>0.49</td>\n",
       "      <td>9.5</td>\n",
       "      <td>0</td>\n",
       "    </tr>\n",
       "    <tr>\n",
       "      <th>2</th>\n",
       "      <td>8.1</td>\n",
       "      <td>0.28</td>\n",
       "      <td>0.40</td>\n",
       "      <td>6.9</td>\n",
       "      <td>0.050</td>\n",
       "      <td>30.0</td>\n",
       "      <td>97.0</td>\n",
       "      <td>0.9951</td>\n",
       "      <td>3.26</td>\n",
       "      <td>0.44</td>\n",
       "      <td>10.1</td>\n",
       "      <td>0</td>\n",
       "    </tr>\n",
       "    <tr>\n",
       "      <th>3</th>\n",
       "      <td>7.2</td>\n",
       "      <td>0.23</td>\n",
       "      <td>0.32</td>\n",
       "      <td>8.5</td>\n",
       "      <td>0.058</td>\n",
       "      <td>47.0</td>\n",
       "      <td>186.0</td>\n",
       "      <td>0.9956</td>\n",
       "      <td>3.19</td>\n",
       "      <td>0.40</td>\n",
       "      <td>9.9</td>\n",
       "      <td>0</td>\n",
       "    </tr>\n",
       "    <tr>\n",
       "      <th>4</th>\n",
       "      <td>7.2</td>\n",
       "      <td>0.23</td>\n",
       "      <td>0.32</td>\n",
       "      <td>8.5</td>\n",
       "      <td>0.058</td>\n",
       "      <td>47.0</td>\n",
       "      <td>186.0</td>\n",
       "      <td>0.9956</td>\n",
       "      <td>3.19</td>\n",
       "      <td>0.40</td>\n",
       "      <td>9.9</td>\n",
       "      <td>0</td>\n",
       "    </tr>\n",
       "  </tbody>\n",
       "</table>\n",
       "</div>"
      ],
      "text/plain": [
       "   fixed_acidity  volatile_acidity  citric_acid  residual_sugar  chlorides  \\\n",
       "0            7.0              0.27         0.36            20.7      0.045   \n",
       "1            6.3              0.30         0.34             1.6      0.049   \n",
       "2            8.1              0.28         0.40             6.9      0.050   \n",
       "3            7.2              0.23         0.32             8.5      0.058   \n",
       "4            7.2              0.23         0.32             8.5      0.058   \n",
       "\n",
       "   free_sulfur_dioxide  total_sulfur_dioxide  density    pH  sulphates  \\\n",
       "0                 45.0                 170.0   1.0010  3.00       0.45   \n",
       "1                 14.0                 132.0   0.9940  3.30       0.49   \n",
       "2                 30.0                  97.0   0.9951  3.26       0.44   \n",
       "3                 47.0                 186.0   0.9956  3.19       0.40   \n",
       "4                 47.0                 186.0   0.9956  3.19       0.40   \n",
       "\n",
       "   alcohol  qual_bin  \n",
       "0      8.8         0  \n",
       "1      9.5         0  \n",
       "2     10.1         0  \n",
       "3      9.9         0  \n",
       "4      9.9         0  "
      ]
     },
     "execution_count": 13,
     "metadata": {},
     "output_type": "execute_result"
    }
   ],
   "source": [
    "white_wine.head()"
   ]
  },
  {
   "cell_type": "code",
   "execution_count": 14,
   "metadata": {},
   "outputs": [],
   "source": [
    "red_X_train, red_X_test, red_y_train, red_y_test = train_test_split(red_wine.drop(columns='qual_bin'), \n",
    "                                                    red_wine.qual_bin, test_size=0.3, random_state=47, shuffle=True)\n",
    "white_X_train, white_X_test, white_y_train, white_y_test = train_test_split(white_wine.drop(columns='qual_bin'), \n",
    "                                                    white_wine.qual_bin, test_size=0.3, random_state=47, shuffle=True)"
   ]
  },
  {
   "cell_type": "code",
   "execution_count": 15,
   "metadata": {},
   "outputs": [
    {
     "data": {
      "text/plain": [
       "((1119, 11), (480, 11))"
      ]
     },
     "execution_count": 15,
     "metadata": {},
     "output_type": "execute_result"
    }
   ],
   "source": [
    "red_X_train.shape, red_X_test.shape"
   ]
  },
  {
   "cell_type": "code",
   "execution_count": 16,
   "metadata": {},
   "outputs": [
    {
     "data": {
      "text/plain": [
       "((3428, 11), (1470, 11))"
      ]
     },
     "execution_count": 16,
     "metadata": {},
     "output_type": "execute_result"
    }
   ],
   "source": [
    "white_X_train.shape, white_X_test.shape"
   ]
  },
  {
   "cell_type": "markdown",
   "metadata": {},
   "source": [
    "I apply different ML models below and evaluate their performance for both red and white wine test data and tabulate the scores and put them in a confusion matrix. I also perform a gridsearch hyperparameter tuning for each model as well determine the ROC_AUC scores. The Logistic Regression model appears to be the best for both red and white wines, so I perform a ROC curve for it, followed by the Classification Reports."
   ]
  },
  {
   "cell_type": "code",
   "execution_count": 22,
   "metadata": {},
   "outputs": [
    {
     "name": "stdout",
     "output_type": "stream",
     "text": [
      "{'C': [0.001, 0.01, 0.1, 1, 10, 100], 'penalty': ['l1', 'l2'], 'solver': ['liblinear']}\n"
     ]
    }
   ],
   "source": [
    "# Logistic Regression - build param grid features\n",
    "C = [0.001,0.01,0.1,1,10,100]\n",
    "penalty = ['l1', 'l2']\n",
    "solver = ['liblinear']\n",
    "\n",
    "param_grid = {'C' : C, 'penalty' : penalty, 'solver' : solver}\n",
    "print(param_grid)"
   ]
  },
  {
   "cell_type": "code",
   "execution_count": 23,
   "metadata": {},
   "outputs": [
    {
     "name": "stdout",
     "output_type": "stream",
     "text": [
      "Red:\n",
      "LogisticRegression(C=100, penalty='l1', solver='liblinear')\n",
      "0.7738198329334467\n",
      "White:\n",
      "LogisticRegression(C=100, penalty='l1', solver='liblinear')\n",
      "0.7738198329334467\n"
     ]
    }
   ],
   "source": [
    "# Logistic Regression - GridSearchCV\n",
    "rf = LogisticRegression()\n",
    "gs = GridSearchCV(estimator = rf, param_grid = param_grid, scoring = 'roc_auc')\n",
    "red_gs = gs.fit(red_X_train, red_y_train)\n",
    "white_gs = gs.fit(white_X_train, white_y_train)\n",
    "\n",
    "print('Red:')\n",
    "print(red_gs.best_estimator_)\n",
    "print(red_gs.best_score_)\n",
    "\n",
    "print('White:')\n",
    "print(white_gs.best_estimator_)\n",
    "print(white_gs.best_score_)"
   ]
  },
  {
   "cell_type": "code",
   "execution_count": 24,
   "metadata": {},
   "outputs": [
    {
     "name": "stdout",
     "output_type": "stream",
     "text": [
      "Red:\n",
      "Accuracy Score:  0.8708333333333333\n",
      "Cross Value Score:  0.8576655052264808\n",
      " \n",
      "White:\n",
      "Accuracy Score:  0.817687074829932\n",
      "Cross Value Score:  0.8057712182358632\n"
     ]
    }
   ],
   "source": [
    "# Logistic Regression  - Fitting the model with the optimal hyperparameters\n",
    "rf = LogisticRegression(solver='liblinear', C=100, random_state=0, penalty='l1')\n",
    "rf.fit(red_X_train, red_y_train)\n",
    "red_y_pred = rf.predict(red_X_test)\n",
    "red_acc = accuracy_score(red_y_test, red_y_pred)\n",
    "red_cv = cross_val_score(rf, red_X_test, red_y_test, scoring = 'roc_auc').mean()\n",
    "print('Red:')\n",
    "print(\"Accuracy Score: \", red_acc)\n",
    "print(\"Cross Value Score: \", red_cv)\n",
    "print(\" \")\n",
    "print('White:')\n",
    "rf.fit(white_X_train, white_y_train)\n",
    "white_y_pred = rf.predict(white_X_test)\n",
    "white_acc = accuracy_score(white_y_test, white_y_pred)\n",
    "white_cv = cross_val_score(rf, white_X_test, white_y_test, scoring = 'roc_auc').mean()\n",
    "print(\"Accuracy Score: \", white_acc)\n",
    "print(\"Cross Value Score: \", white_cv)"
   ]
  },
  {
   "cell_type": "code",
   "execution_count": 75,
   "metadata": {},
   "outputs": [
    {
     "name": "stdout",
     "output_type": "stream",
     "text": [
      "Red ROC-AUC Score: 0.844459930313589\n",
      "White ROC-AUC Score: 0.8082795431976167\n"
     ]
    }
   ],
   "source": [
    "# Logistic Regression - ROC-AUC Score\n",
    "red_y_scores_rf = rf.predict_proba(red_X_test)\n",
    "red_y_scores_rf = red_y_scores_rf[:,1]\n",
    "red_auroc = roc_auc_score(red_y_test, red_y_scores_rf)\n",
    "print(\"Red ROC-AUC Score:\", red_auroc)\n",
    "\n",
    "white_y_scores_rf = rf.predict_proba(white_X_test)\n",
    "white_y_scores_rf = white_y_scores_rf[:,1]\n",
    "white_auroc = roc_auc_score(white_y_test, white_y_scores_rf)\n",
    "print(\"White ROC-AUC Score:\", white_auroc)"
   ]
  },
  {
   "cell_type": "code",
   "execution_count": 76,
   "metadata": {},
   "outputs": [
    {
     "name": "stdout",
     "output_type": "stream",
     "text": [
      "Logistic Regression - Red wine\n"
     ]
    },
    {
     "data": {
      "image/png": "[encoded data removed]",
      "text/plain": [
       "<Figure size 720x360 with 1 Axes>"
      ]
     },
     "metadata": {
      "needs_background": "light"
     },
     "output_type": "display_data"
    }
   ],
   "source": [
    "\n",
    "# Logistic Regression - ROC Curve - Red \n",
    "false_positive_rate, true_positive_rate, thresholds = roc_curve(red_y_test, red_y_scores_rf)\n",
    "def plot_roc_curve(false_positive_rate, true_positive_rate, label=None):\n",
    "    plt.plot(false_positive_rate, true_positive_rate, linewidth=2, label=label)\n",
    "    plt.plot([0, 1], [0, 1], 'r', linewidth=4)\n",
    "    plt.axis([0, 1, 0, 1])\n",
    "    plt.xlabel('False Positive Rate (FPR)', fontsize=15)\n",
    "    plt.ylabel('True Positive Rate (TPR)', fontsize=15)\n",
    "    plt.title('ROC curve (RF)',fontsize=15)\n",
    "\n",
    "print('Logistic Regression - Red wine')\n",
    "plt.figure(figsize=(10, 5))\n",
    "plot_roc_curve(false_positive_rate, true_positive_rate)\n",
    "plt.savefig(\"red_roc_curve_RF.jpg\")\n",
    "plt.show()\n",
    "# TPR starts leveling off around .25"
   ]
  },
  {
   "cell_type": "code",
   "execution_count": 77,
   "metadata": {},
   "outputs": [
    {
     "name": "stdout",
     "output_type": "stream",
     "text": [
      "Logistic Regression - White wine\n"
     ]
    },
    {
     "data": {
      "image/png": "[encoded data removed]",
      "text/plain": [
       "<Figure size 720x360 with 1 Axes>"
      ]
     },
     "metadata": {
      "needs_background": "light"
     },
     "output_type": "display_data"
    }
   ],
   "source": [
    "# Logistic Regression - ROC Curve - White \n",
    "false_positive_rate, true_positive_rate, thresholds = roc_curve(white_y_test, white_y_scores_rf)\n",
    "print('Logistic Regression - White wine')\n",
    "plt.figure(figsize=(10, 5))\n",
    "plot_roc_curve(false_positive_rate, true_positive_rate)\n",
    "plt.savefig(\"white_roc_curve_RF.jpg\")\n",
    "plt.show()\n",
    "# TPR starts leveling off around .2"
   ]
  },
  {
   "cell_type": "code",
   "execution_count": 78,
   "metadata": {},
   "outputs": [
    {
     "name": "stdout",
     "output_type": "stream",
     "text": [
      "Red Confusion Matrix\n",
      "[[400  10]\n",
      " [ 62   8]]\n",
      "White Confusion Matrix\n",
      "[[1114   52]\n",
      " [ 215   89]]\n"
     ]
    }
   ],
   "source": [
    "# Logistic Regression - Predict using the model and show confusion matrix:\n",
    "print('Red Confusion Matrix')\n",
    "red_y_pred = rf.predict(red_X_test)\n",
    "print(confusion_matrix(red_y_test, red_y_pred))\n",
    "\n",
    "white_y_pred = rf.predict(white_X_test)\n",
    "print('White Confusion Matrix')\n",
    "print(confusion_matrix(white_y_test, white_y_pred))"
   ]
  },
  {
   "cell_type": "code",
   "execution_count": 79,
   "metadata": {},
   "outputs": [
    {
     "name": "stdout",
     "output_type": "stream",
     "text": [
      "{'n_estimators': [10, 17, 25, 33, 41, 48, 56, 64, 72, 80], 'max_features': ['auto', 'sqrt'], 'max_depth': [2, 4], 'min_samples_split': [2, 5], 'min_samples_leaf': [1, 2], 'bootstrap': [True, False]}\n"
     ]
    }
   ],
   "source": [
    "# Random Forest - build param grid features\n",
    "n_estimators = [int(x) for x in np.linspace(start = 10, stop = 80, num = 10)]\n",
    "max_features = ['auto', 'sqrt']\n",
    "max_depth = [2, 4]\n",
    "min_sample_split = [2, 5]\n",
    "min_sample_leaf = [1, 2]\n",
    "bootstrap = [True, False]\n",
    "\n",
    "param_grid = {'n_estimators' : n_estimators, \n",
    "              'max_features' : max_features, \n",
    "              'max_depth' : max_depth, \n",
    "              'min_samples_split' : min_sample_split, \n",
    "              'min_samples_leaf' : min_sample_leaf, \n",
    "              'bootstrap' : bootstrap}\n",
    "print(param_grid)"
   ]
  },
  {
   "cell_type": "code",
   "execution_count": 80,
   "metadata": {},
   "outputs": [
    {
     "name": "stdout",
     "output_type": "stream",
     "text": [
      "Red:\n",
      "RandomForestClassifier(max_depth=4, n_estimators=80)\n",
      "0.8251774127138255\n",
      "White:\n",
      "RandomForestClassifier(max_depth=4, n_estimators=80)\n",
      "0.8251774127138255\n"
     ]
    }
   ],
   "source": [
    "# RandomForestClassifier - GridSearchCV\n",
    "rf = RandomForestClassifier()\n",
    "gs = GridSearchCV(estimator = rf, param_grid = param_grid, scoring = 'roc_auc', cv = 3, n_jobs = 4)\n",
    "red_gs = gs.fit(red_X_train, red_y_train)\n",
    "white_gs = gs.fit(white_X_train, white_y_train)\n",
    "\n",
    "print('Red:')\n",
    "print(red_gs.best_estimator_)\n",
    "print(red_gs.best_score_)\n",
    "\n",
    "print('White:')\n",
    "print(white_gs.best_estimator_)\n",
    "print(white_gs.best_score_)\n"
   ]
  },
  {
   "cell_type": "code",
   "execution_count": 81,
   "metadata": {},
   "outputs": [
    {
     "name": "stdout",
     "output_type": "stream",
     "text": [
      "Red:\n",
      "Accuracy Score:  0.8729166666666667\n",
      "Cross Value Score:  0.8790940766550523\n",
      " \n",
      "White:\n",
      "Accuracy Score:  0.8122448979591836\n",
      "Cross Value Score:  0.8324227669263904\n"
     ]
    }
   ],
   "source": [
    "# RandomForestClassifier - Fitting the Random forest model with the optimal hyperparameters\n",
    "rf = RandomForestClassifier(n_estimators = 48, max_features = 'sqrt' , max_depth = 4, min_samples_split = 5, bootstrap = False)\n",
    "rf.fit(red_X_train, red_y_train)\n",
    "red_y_pred = rf.predict(red_X_test)\n",
    "red_acc = accuracy_score(red_y_test, red_y_pred)\n",
    "red_cv = cross_val_score(rf, red_X_test, red_y_test, scoring = 'roc_auc').mean()\n",
    "print('Red:')\n",
    "print(\"Accuracy Score: \", red_acc)\n",
    "print(\"Cross Value Score: \", red_cv)\n",
    "print(\" \")\n",
    "print('White:')\n",
    "rf.fit(white_X_train, white_y_train)\n",
    "white_y_pred = rf.predict(white_X_test)\n",
    "white_acc = accuracy_score(white_y_test, white_y_pred)\n",
    "white_cv = cross_val_score(rf, white_X_test, white_y_test, scoring = 'roc_auc').mean()\n",
    "print(\"Accuracy Score: \", white_acc)\n",
    "print(\"Cross Value Score: \", white_cv)"
   ]
  },
  {
   "cell_type": "code",
   "execution_count": 82,
   "metadata": {},
   "outputs": [
    {
     "name": "stdout",
     "output_type": "stream",
     "text": [
      "Red ROC-AUC Score: 0.8076306620209059\n",
      "White ROC-AUC Score: 0.8548470366525232\n"
     ]
    }
   ],
   "source": [
    "# RandomForestClassifier - ROC-AUC Score\n",
    "red_y_scores_rf = rf.predict_proba(red_X_test)\n",
    "red_y_scores_rf = red_y_scores_rf[:,1]\n",
    "red_auroc = roc_auc_score(red_y_test, red_y_scores_rf)\n",
    "print(\"Red ROC-AUC Score:\", red_auroc)\n",
    "\n",
    "white_y_scores_rf = rf.predict_proba(white_X_test)\n",
    "white_y_scores_rf = white_y_scores_rf[:,1]\n",
    "white_auroc = roc_auc_score(white_y_test, white_y_scores_rf)\n",
    "print(\"White ROC-AUC Score:\", white_auroc)"
   ]
  },
  {
   "cell_type": "code",
   "execution_count": 83,
   "metadata": {},
   "outputs": [
    {
     "name": "stdout",
     "output_type": "stream",
     "text": [
      "Red Confusion Matrix\n",
      "[[409   1]\n",
      " [ 70   0]]\n",
      "White Confusion Matrix\n",
      "[[1146   20]\n",
      " [ 256   48]]\n"
     ]
    }
   ],
   "source": [
    "# RandomForestClassifier - Predict using the model and show confusion matrix:\n",
    "print('Red Confusion Matrix')\n",
    "red_y_pred = rf.predict(red_X_test)\n",
    "print(confusion_matrix(red_y_test, red_y_pred))\n",
    "\n",
    "white_y_pred = rf.predict(white_X_test)\n",
    "print('White Confusion Matrix')\n",
    "print(confusion_matrix(white_y_test, white_y_pred))"
   ]
  },
  {
   "cell_type": "code",
   "execution_count": 84,
   "metadata": {},
   "outputs": [
    {
     "name": "stdout",
     "output_type": "stream",
     "text": [
      "{'n_neighbors': [3, 5, 7, 10, 100, 400], 'weights': ['uniform', 'distance'], 'algorithm': ['ball_tree', 'kd_tree', 'brute']}\n"
     ]
    }
   ],
   "source": [
    "# KNeighborsClassifier - build param grid features\n",
    "n_neighbors = [3, 5, 7, 10, 100, 400]\n",
    "weights = ['uniform', 'distance']\n",
    "algorithm = ['ball_tree', 'kd_tree', 'brute']\n",
    "param_grid = {'n_neighbors' : n_neighbors, 'weights' : weights, 'algorithm' : algorithm}\n",
    "print(param_grid)"
   ]
  },
  {
   "cell_type": "code",
   "execution_count": 85,
   "metadata": {},
   "outputs": [
    {
     "name": "stdout",
     "output_type": "stream",
     "text": [
      "Red:\n",
      "KNeighborsClassifier(algorithm='ball_tree', n_neighbors=100, weights='distance')\n",
      "0.8265460260880626\n",
      "White:\n",
      "KNeighborsClassifier(algorithm='ball_tree', n_neighbors=100, weights='distance')\n",
      "0.8265460260880626\n"
     ]
    }
   ],
   "source": [
    "# KNeighborsClassifier - GridSearchCV\n",
    "rf = KNeighborsClassifier()\n",
    "gs = GridSearchCV(estimator = rf, param_grid = param_grid, scoring = 'roc_auc')\n",
    "red_gs = gs.fit(red_X_train, red_y_train)\n",
    "white_gs = gs.fit(white_X_train, white_y_train)\n",
    "\n",
    "print('Red:')\n",
    "print(red_gs.best_estimator_)\n",
    "print(red_gs.best_score_)\n",
    "\n",
    "print('White:')\n",
    "print(white_gs.best_estimator_)\n",
    "print(white_gs.best_score_)"
   ]
  },
  {
   "cell_type": "code",
   "execution_count": 86,
   "metadata": {},
   "outputs": [
    {
     "name": "stdout",
     "output_type": "stream",
     "text": [
      "Red:\n",
      "Accuracy Score:  0.8895833333333333\n",
      "Cross Value Score:  0.7522648083623693\n",
      " \n",
      "White:\n",
      "Accuracy Score:  0.8551020408163266\n",
      "Cross Value Score:  0.7760132271266443\n"
     ]
    }
   ],
   "source": [
    "# KNeighborsClassifier - Fitting the model with the optimal hyperparameters\n",
    "rf = KNeighborsClassifier(n_neighbors=100, weights='distance', algorithm='ball_tree')\n",
    "rf.fit(red_X_train, red_y_train)\n",
    "red_y_pred = rf.predict(red_X_test)\n",
    "red_acc = accuracy_score(red_y_test, red_y_pred)\n",
    "red_cv = cross_val_score(rf, red_X_test, red_y_test, scoring = 'roc_auc').mean()\n",
    "print('Red:')\n",
    "print(\"Accuracy Score: \", red_acc)\n",
    "print(\"Cross Value Score: \", red_cv)\n",
    "print(\" \")\n",
    "print('White:')\n",
    "rf.fit(white_X_train, white_y_train)\n",
    "white_y_pred = rf.predict(white_X_test)\n",
    "white_acc = accuracy_score(white_y_test, white_y_pred)\n",
    "white_cv = cross_val_score(rf, white_X_test, white_y_test, scoring = 'roc_auc').mean()\n",
    "print(\"Accuracy Score: \", white_acc)\n",
    "print(\"Cross Value Score: \", white_cv)"
   ]
  },
  {
   "cell_type": "code",
   "execution_count": 87,
   "metadata": {},
   "outputs": [
    {
     "name": "stdout",
     "output_type": "stream",
     "text": [
      "Red ROC-AUC Score: 0.38278745644599305\n",
      "White ROC-AUC Score: 0.8710390900063194\n"
     ]
    }
   ],
   "source": [
    "# KNeighborsClassifier - ROC-AUC Score\n",
    "red_y_scores_rf = rf.predict_proba(red_X_test)\n",
    "red_y_scores_rf = red_y_scores_rf[:,1]\n",
    "red_auroc = roc_auc_score(red_y_test, red_y_scores_rf)\n",
    "print(\"Red ROC-AUC Score:\", red_auroc)\n",
    "\n",
    "white_y_scores_rf = rf.predict_proba(white_X_test)\n",
    "white_y_scores_rf = white_y_scores_rf[:,1]\n",
    "white_auroc = roc_auc_score(white_y_test, white_y_scores_rf)\n",
    "print(\"White ROC-AUC Score:\", white_auroc)"
   ]
  },
  {
   "cell_type": "code",
   "execution_count": 88,
   "metadata": {},
   "outputs": [
    {
     "name": "stdout",
     "output_type": "stream",
     "text": [
      "Red: \n",
      "              precision    recall  f1-score   support\n",
      "\n",
      "           0       0.89      1.00      0.94       410\n",
      "           1       1.00      0.24      0.39        70\n",
      "\n",
      "    accuracy                           0.89       480\n",
      "   macro avg       0.94      0.62      0.67       480\n",
      "weighted avg       0.90      0.89      0.86       480\n",
      "\n",
      " \n",
      "White: \n",
      "              precision    recall  f1-score   support\n",
      "\n",
      "           0       0.85      1.00      0.92      1166\n",
      "           1       0.98      0.31      0.47       304\n",
      "\n",
      "    accuracy                           0.86      1470\n",
      "   macro avg       0.91      0.65      0.69      1470\n",
      "weighted avg       0.87      0.86      0.82      1470\n",
      "\n"
     ]
    }
   ],
   "source": [
    "# Classification Reports\n",
    "print(\"Red: \")\n",
    "print(classification_report(red_y_test, red_y_pred))\n",
    "print(\" \")\n",
    "print(\"White: \")\n",
    "print(classification_report(white_y_test, white_y_pred))"
   ]
  },
  {
   "cell_type": "code",
   "execution_count": null,
   "metadata": {},
   "outputs": [],
   "source": []
  }
 ],
 "metadata": {
  "kernelspec": {
   "display_name": "Python 3",
   "language": "python",
   "name": "python3"
  },
  "language_info": {
   "codemirror_mode": {
    "name": "ipython",
    "version": 3
   },
   "file_extension": ".py",
   "mimetype": "text/x-python",
   "name": "python",
   "nbconvert_exporter": "python",
   "pygments_lexer": "ipython3",
   "version": "3.8.5"
  }
 },
 "nbformat": 4,
 "nbformat_minor": 4
}
